{
 "cells": [
  {
   "cell_type": "code",
   "execution_count": 40,
   "id": "a1652806",
   "metadata": {},
   "outputs": [],
   "source": [
    "import numpy as np\n",
    "import pandas as pd\n",
    "import re\n",
    "import string\n",
    "from nltk.corpus import stopwords\n",
    "from nltk.tokenize import word_tokenize, sent_tokenize\n",
    "from nltk.stem import SnowballStemmer\n",
    "from sklearn.metrics import accuracy_score\n",
    "import pickle\n",
    "from sklearn.feature_extraction.text import CountVectorizer\n",
    "from sklearn.model_selection import train_test_split"
   ]
  },
  {
   "cell_type": "code",
   "execution_count": 2,
   "id": "4b0e6a75",
   "metadata": {},
   "outputs": [
    {
     "data": {
      "text/plain": [
       "<bound method NDFrame.head of                                                   review sentiment\n",
       "0      One of the other reviewers has mentioned that ...  positive\n",
       "1      A wonderful little production. <br /><br />The...  positive\n",
       "2      I thought this was a wonderful way to spend ti...  positive\n",
       "3      Basically there's a family where a little boy ...  negative\n",
       "4      Petter Mattei's \"Love in the Time of Money\" is...  positive\n",
       "...                                                  ...       ...\n",
       "49995  I thought this movie did a down right good job...  positive\n",
       "49996  Bad plot, bad dialogue, bad acting, idiotic di...  negative\n",
       "49997  I am a Catholic taught in parochial elementary...  negative\n",
       "49998  I'm going to have to disagree with the previou...  negative\n",
       "49999  No one expects the Star Trek movies to be high...  negative\n",
       "\n",
       "[50000 rows x 2 columns]>"
      ]
     },
     "execution_count": 2,
     "metadata": {},
     "output_type": "execute_result"
    }
   ],
   "source": [
    "df = pd.read_csv('IMDB-Dataset.csv')\n",
    "df.head"
   ]
  },
  {
   "cell_type": "code",
   "execution_count": 3,
   "id": "b5102ba4",
   "metadata": {},
   "outputs": [
    {
     "data": {
      "text/plain": [
       "(50000, 2)"
      ]
     },
     "execution_count": 3,
     "metadata": {},
     "output_type": "execute_result"
    }
   ],
   "source": [
    "df.shape"
   ]
  },
  {
   "cell_type": "code",
   "execution_count": 4,
   "id": "9bfbcee8",
   "metadata": {},
   "outputs": [
    {
     "name": "stdout",
     "output_type": "stream",
     "text": [
      "<class 'pandas.core.frame.DataFrame'>\n",
      "RangeIndex: 50000 entries, 0 to 49999\n",
      "Data columns (total 2 columns):\n",
      " #   Column     Non-Null Count  Dtype \n",
      "---  ------     --------------  ----- \n",
      " 0   review     50000 non-null  object\n",
      " 1   sentiment  50000 non-null  object\n",
      "dtypes: object(2)\n",
      "memory usage: 781.4+ KB\n"
     ]
    }
   ],
   "source": [
    "df.info()"
   ]
  },
  {
   "cell_type": "code",
   "execution_count": 5,
   "id": "52794683",
   "metadata": {},
   "outputs": [
    {
     "data": {
      "text/plain": [
       "positive    25000\n",
       "negative    25000\n",
       "Name: sentiment, dtype: int64"
      ]
     },
     "execution_count": 5,
     "metadata": {},
     "output_type": "execute_result"
    }
   ],
   "source": [
    "df.sentiment.value_counts()"
   ]
  },
  {
   "cell_type": "code",
   "execution_count": 6,
   "id": "8e392d81",
   "metadata": {},
   "outputs": [],
   "source": [
    "df.sentiment.replace({'positive':1,'negative':0},inplace = True)"
   ]
  },
  {
   "cell_type": "code",
   "execution_count": 7,
   "id": "66912103",
   "metadata": {},
   "outputs": [
    {
     "data": {
      "text/html": [
       "<div>\n",
       "<style scoped>\n",
       "    .dataframe tbody tr th:only-of-type {\n",
       "        vertical-align: middle;\n",
       "    }\n",
       "\n",
       "    .dataframe tbody tr th {\n",
       "        vertical-align: top;\n",
       "    }\n",
       "\n",
       "    .dataframe thead th {\n",
       "        text-align: right;\n",
       "    }\n",
       "</style>\n",
       "<table border=\"1\" class=\"dataframe\">\n",
       "  <thead>\n",
       "    <tr style=\"text-align: right;\">\n",
       "      <th></th>\n",
       "      <th>review</th>\n",
       "      <th>sentiment</th>\n",
       "    </tr>\n",
       "  </thead>\n",
       "  <tbody>\n",
       "    <tr>\n",
       "      <th>0</th>\n",
       "      <td>One of the other reviewers has mentioned that ...</td>\n",
       "      <td>1</td>\n",
       "    </tr>\n",
       "    <tr>\n",
       "      <th>1</th>\n",
       "      <td>A wonderful little production. &lt;br /&gt;&lt;br /&gt;The...</td>\n",
       "      <td>1</td>\n",
       "    </tr>\n",
       "    <tr>\n",
       "      <th>2</th>\n",
       "      <td>I thought this was a wonderful way to spend ti...</td>\n",
       "      <td>1</td>\n",
       "    </tr>\n",
       "    <tr>\n",
       "      <th>3</th>\n",
       "      <td>Basically there's a family where a little boy ...</td>\n",
       "      <td>0</td>\n",
       "    </tr>\n",
       "    <tr>\n",
       "      <th>4</th>\n",
       "      <td>Petter Mattei's \"Love in the Time of Money\" is...</td>\n",
       "      <td>1</td>\n",
       "    </tr>\n",
       "  </tbody>\n",
       "</table>\n",
       "</div>"
      ],
      "text/plain": [
       "                                              review  sentiment\n",
       "0  One of the other reviewers has mentioned that ...          1\n",
       "1  A wonderful little production. <br /><br />The...          1\n",
       "2  I thought this was a wonderful way to spend ti...          1\n",
       "3  Basically there's a family where a little boy ...          0\n",
       "4  Petter Mattei's \"Love in the Time of Money\" is...          1"
      ]
     },
     "execution_count": 7,
     "metadata": {},
     "output_type": "execute_result"
    }
   ],
   "source": [
    "df.head()"
   ]
  },
  {
   "cell_type": "markdown",
   "id": "50c988be",
   "metadata": {},
   "source": [
    "# STEPS TO CLEAN THE REVIEWS :\n",
    "Remove HTML tags<br>\n",
    "Remove special characters<br>\n",
    "Convert everything to lowercase<br>\n",
    "Remove stopwords<br>\n",
    "Stemming<br>"
   ]
  },
  {
   "cell_type": "code",
   "execution_count": 8,
   "id": "5951be04",
   "metadata": {
    "scrolled": true
   },
   "outputs": [
    {
     "data": {
      "text/plain": [
       "\"One of the other reviewers has mentioned that after watching just 1 Oz episode you'll be hooked. They are right, as this is exactly what happened with me.<br /><br />The first thing that struck me about Oz was its brutality and unflinching scenes of violence, which set in right from the word GO. Trust me, this is not a show for the faint hearted or timid. This show pulls no punches with regards to drugs, sex or violence. Its is hardcore, in the classic use of the word.<br /><br />It is called OZ as that is the nickname given to the Oswald Maximum Security State Penitentary. It focuses mainly on Emerald City, an experimental section of the prison where all the cells have glass fronts and face inwards, so privacy is not high on the agenda. Em City is home to many..Aryans, Muslims, gangstas, Latinos, Christians, Italians, Irish and more....so scuffles, death stares, dodgy dealings and shady agreements are never far away.<br /><br />I would say the main appeal of the show is due to the fact that it goes where other shows wouldn't dare. Forget pretty pictures painted for mainstream audiences, forget charm, forget romance...OZ doesn't mess around. The first episode I ever saw struck me as so nasty it was surreal, I couldn't say I was ready for it, but as I watched more, I developed a taste for Oz, and got accustomed to the high levels of graphic violence. Not just violence, but injustice (crooked guards who'll be sold out for a nickel, inmates who'll kill on order and get away with it, well mannered, middle class inmates being turned into prison bitches due to their lack of street skills or prison experience) Watching Oz, you may become comfortable with what is uncomfortable viewing....thats if you can get in touch with your darker side.\""
      ]
     },
     "execution_count": 8,
     "metadata": {},
     "output_type": "execute_result"
    }
   ],
   "source": [
    "df.review[0]"
   ]
  },
  {
   "cell_type": "markdown",
   "id": "d3a7a8d4",
   "metadata": {},
   "source": [
    "## Remove HTML tags"
   ]
  },
  {
   "cell_type": "code",
   "execution_count": 9,
   "id": "8d19ed6c",
   "metadata": {},
   "outputs": [],
   "source": [
    "def clean_html_tags(mytxt):\n",
    "    pattern = re.compile(r'<.*?>')\n",
    "    return re.sub(pattern,'',mytxt)"
   ]
  },
  {
   "cell_type": "code",
   "execution_count": 10,
   "id": "32b13fa5",
   "metadata": {},
   "outputs": [
    {
     "data": {
      "text/plain": [
       "\"One of the other reviewers has mentioned that after watching just 1 Oz episode you'll be hooked. They are right, as this is exactly what happened with me.The first thing that struck me about Oz was its brutality and unflinching scenes of violence, which set in right from the word GO. Trust me, this is not a show for the faint hearted or timid. This show pulls no punches with regards to drugs, sex or violence. Its is hardcore, in the classic use of the word.It is called OZ as that is the nickname given to the Oswald Maximum Security State Penitentary. It focuses mainly on Emerald City, an experimental section of the prison where all the cells have glass fronts and face inwards, so privacy is not high on the agenda. Em City is home to many..Aryans, Muslims, gangstas, Latinos, Christians, Italians, Irish and more....so scuffles, death stares, dodgy dealings and shady agreements are never far away.I would say the main appeal of the show is due to the fact that it goes where other shows wouldn't dare. Forget pretty pictures painted for mainstream audiences, forget charm, forget romance...OZ doesn't mess around. The first episode I ever saw struck me as so nasty it was surreal, I couldn't say I was ready for it, but as I watched more, I developed a taste for Oz, and got accustomed to the high levels of graphic violence. Not just violence, but injustice (crooked guards who'll be sold out for a nickel, inmates who'll kill on order and get away with it, well mannered, middle class inmates being turned into prison bitches due to their lack of street skills or prison experience) Watching Oz, you may become comfortable with what is uncomfortable viewing....thats if you can get in touch with your darker side.\""
      ]
     },
     "execution_count": 10,
     "metadata": {},
     "output_type": "execute_result"
    }
   ],
   "source": [
    "clean_html_tags(df.review[0])"
   ]
  },
  {
   "cell_type": "code",
   "execution_count": 11,
   "id": "42f81982",
   "metadata": {},
   "outputs": [],
   "source": [
    "df.review = df.review.apply(clean_html_tags)"
   ]
  },
  {
   "cell_type": "code",
   "execution_count": 12,
   "id": "0bc03ab8",
   "metadata": {},
   "outputs": [],
   "source": [
    "def is_special(text):\n",
    "    rem = ''\n",
    "    for i in text:\n",
    "        if i.isalnum():\n",
    "            rem = rem + i\n",
    "        else:\n",
    "            rem = rem + ' '\n",
    "    return rem"
   ]
  },
  {
   "cell_type": "code",
   "execution_count": 13,
   "id": "8e2b9510",
   "metadata": {},
   "outputs": [
    {
     "data": {
      "text/plain": [
       "'One of the other reviewers has mentioned that after watching just 1 Oz episode you ll be hooked  They are right  as this is exactly what happened with me The first thing that struck me about Oz was its brutality and unflinching scenes of violence  which set in right from the word GO  Trust me  this is not a show for the faint hearted or timid  This show pulls no punches with regards to drugs  sex or violence  Its is hardcore  in the classic use of the word It is called OZ as that is the nickname given to the Oswald Maximum Security State Penitentary  It focuses mainly on Emerald City  an experimental section of the prison where all the cells have glass fronts and face inwards  so privacy is not high on the agenda  Em City is home to many  Aryans  Muslims  gangstas  Latinos  Christians  Italians  Irish and more    so scuffles  death stares  dodgy dealings and shady agreements are never far away I would say the main appeal of the show is due to the fact that it goes where other shows wouldn t dare  Forget pretty pictures painted for mainstream audiences  forget charm  forget romance   OZ doesn t mess around  The first episode I ever saw struck me as so nasty it was surreal  I couldn t say I was ready for it  but as I watched more  I developed a taste for Oz  and got accustomed to the high levels of graphic violence  Not just violence  but injustice  crooked guards who ll be sold out for a nickel  inmates who ll kill on order and get away with it  well mannered  middle class inmates being turned into prison bitches due to their lack of street skills or prison experience  Watching Oz  you may become comfortable with what is uncomfortable viewing    thats if you can get in touch with your darker side '"
      ]
     },
     "execution_count": 13,
     "metadata": {},
     "output_type": "execute_result"
    }
   ],
   "source": [
    "is_special(df.review[0])"
   ]
  },
  {
   "cell_type": "code",
   "execution_count": 14,
   "id": "9a15e5a2",
   "metadata": {},
   "outputs": [],
   "source": [
    "df.review = df.review.apply(is_special)"
   ]
  },
  {
   "cell_type": "code",
   "execution_count": 15,
   "id": "7a5a4959",
   "metadata": {},
   "outputs": [],
   "source": [
    "#stop words clean up \n",
    "\n",
    "def stop_words_clean_up(mytxt):\n",
    "    stop_words = set(stopwords.words('english'))\n",
    "    punct = set(string.punctuation)\n",
    "    words = word_tokenize(mytxt.lower())\n",
    "    return [word for word in words if word not in stop_words and word not in punct]     \n",
    "    "
   ]
  },
  {
   "cell_type": "code",
   "execution_count": 16,
   "id": "c04f162b",
   "metadata": {},
   "outputs": [],
   "source": [
    "df.review = df.review.apply(stop_words_clean_up)"
   ]
  },
  {
   "cell_type": "code",
   "execution_count": 61,
   "id": "e0736e39",
   "metadata": {},
   "outputs": [],
   "source": [
    "def stem_convert(mytxt):\n",
    "    ss = SnowballStemmer('english')\n",
    "    return \" \".join([ss.stem(txt) for txt in mytxt])"
   ]
  },
  {
   "cell_type": "code",
   "execution_count": 18,
   "id": "4c46a86e",
   "metadata": {},
   "outputs": [],
   "source": [
    "df.review = df.review.apply(stem_convert)"
   ]
  },
  {
   "cell_type": "code",
   "execution_count": 19,
   "id": "744056fb",
   "metadata": {},
   "outputs": [
    {
     "data": {
      "text/html": [
       "<div>\n",
       "<style scoped>\n",
       "    .dataframe tbody tr th:only-of-type {\n",
       "        vertical-align: middle;\n",
       "    }\n",
       "\n",
       "    .dataframe tbody tr th {\n",
       "        vertical-align: top;\n",
       "    }\n",
       "\n",
       "    .dataframe thead th {\n",
       "        text-align: right;\n",
       "    }\n",
       "</style>\n",
       "<table border=\"1\" class=\"dataframe\">\n",
       "  <thead>\n",
       "    <tr style=\"text-align: right;\">\n",
       "      <th></th>\n",
       "      <th>review</th>\n",
       "      <th>sentiment</th>\n",
       "    </tr>\n",
       "  </thead>\n",
       "  <tbody>\n",
       "    <tr>\n",
       "      <th>0</th>\n",
       "      <td>one review mention watch 1 oz episod hook righ...</td>\n",
       "      <td>1</td>\n",
       "    </tr>\n",
       "    <tr>\n",
       "      <th>1</th>\n",
       "      <td>wonder littl product film techniqu unassum old...</td>\n",
       "      <td>1</td>\n",
       "    </tr>\n",
       "    <tr>\n",
       "      <th>2</th>\n",
       "      <td>thought wonder way spend time hot summer weeke...</td>\n",
       "      <td>1</td>\n",
       "    </tr>\n",
       "    <tr>\n",
       "      <th>3</th>\n",
       "      <td>basic famili littl boy jake think zombi closet...</td>\n",
       "      <td>0</td>\n",
       "    </tr>\n",
       "    <tr>\n",
       "      <th>4</th>\n",
       "      <td>petter mattei love time money visual stun film...</td>\n",
       "      <td>1</td>\n",
       "    </tr>\n",
       "  </tbody>\n",
       "</table>\n",
       "</div>"
      ],
      "text/plain": [
       "                                              review  sentiment\n",
       "0  one review mention watch 1 oz episod hook righ...          1\n",
       "1  wonder littl product film techniqu unassum old...          1\n",
       "2  thought wonder way spend time hot summer weeke...          1\n",
       "3  basic famili littl boy jake think zombi closet...          0\n",
       "4  petter mattei love time money visual stun film...          1"
      ]
     },
     "execution_count": 19,
     "metadata": {},
     "output_type": "execute_result"
    }
   ],
   "source": [
    "df.head()"
   ]
  },
  {
   "cell_type": "code",
   "execution_count": 24,
   "id": "49d2e6fb",
   "metadata": {},
   "outputs": [],
   "source": [
    "#model Creation\n",
    "x = np.array(df.iloc[:,0].values)\n",
    "y = np.array(df.sentiment.values)"
   ]
  },
  {
   "cell_type": "code",
   "execution_count": 26,
   "id": "57611991",
   "metadata": {},
   "outputs": [],
   "source": [
    "cv = CountVectorizer(max_features= 1000)"
   ]
  },
  {
   "cell_type": "code",
   "execution_count": 27,
   "id": "ab6d6d19",
   "metadata": {},
   "outputs": [],
   "source": [
    "X = cv.fit_transform(df.review).toarray()"
   ]
  },
  {
   "cell_type": "code",
   "execution_count": 28,
   "id": "4db3543d",
   "metadata": {},
   "outputs": [
    {
     "name": "stdout",
     "output_type": "stream",
     "text": [
      "(50000, 1000)\n",
      "(50000,)\n"
     ]
    }
   ],
   "source": [
    "print(X.shape)\n",
    "print(y.shape)"
   ]
  },
  {
   "cell_type": "code",
   "execution_count": 33,
   "id": "656fb27f",
   "metadata": {},
   "outputs": [
    {
     "name": "stdout",
     "output_type": "stream",
     "text": [
      "       10  20  30  80  abil  abl  absolut  accent  accept  achiev  ...  \\\n",
      "0       0   0   0   0     0    0        0       0       0       0  ...   \n",
      "1       0   0   0   0     0    0        0       0       0       0  ...   \n",
      "2       0   0   0   0     0    0        0       0       0       0  ...   \n",
      "3       1   0   0   0     0    0        0       0       0       0  ...   \n",
      "4       0   0   0   0     0    0        0       0       0       0  ...   \n",
      "...    ..  ..  ..  ..   ...  ...      ...     ...     ...     ...  ...   \n",
      "49995   1   1   0   0     0    0        0       0       0       0  ...   \n",
      "49996   0   0   0   0     0    0        0       0       0       0  ...   \n",
      "49997   0   0   0   0     0    0        0       0       0       0  ...   \n",
      "49998   0   0   1   0     0    0        0       0       0       0  ...   \n",
      "49999   0   0   0   0     0    0        0       0       0       0  ...   \n",
      "\n",
      "       writer  written  wrong  wrote  year  yes  yet  york  young  zombi  \n",
      "0           0        0      0      0     0    0    0     0      0      0  \n",
      "1           0        1      0      0     0    0    0     0      0      0  \n",
      "2           0        0      0      0     1    0    0     0      1      0  \n",
      "3           0        0      0      0     0    0    0     0      0      2  \n",
      "4           0        0      0      0     0    0    0     1      0      0  \n",
      "...       ...      ...    ...    ...   ...  ...  ...   ...    ...    ...  \n",
      "49995       0        0      0      0     0    0    0     0      0      0  \n",
      "49996       0        0      0      0     0    0    0     0      0      0  \n",
      "49997       0        0      1      0     0    0    0     0      0      0  \n",
      "49998       0        0      0      0     0    0    0     0      0      0  \n",
      "49999       0        0      0      0     0    0    0     0      0      0  \n",
      "\n",
      "[50000 rows x 1000 columns]\n"
     ]
    },
    {
     "name": "stderr",
     "output_type": "stream",
     "text": [
      "C:\\Users\\hp\\anaconda3\\lib\\site-packages\\sklearn\\utils\\deprecation.py:87: FutureWarning: Function get_feature_names is deprecated; get_feature_names is deprecated in 1.0 and will be removed in 1.2. Please use get_feature_names_out instead.\n",
      "  warnings.warn(msg, category=FutureWarning)\n"
     ]
    }
   ],
   "source": [
    "cv_df = pd.DataFrame(data=X,columns = cv.get_feature_names())\n",
    "print(cv_df)"
   ]
  },
  {
   "cell_type": "code",
   "execution_count": 30,
   "id": "771796c3",
   "metadata": {},
   "outputs": [
    {
     "name": "stdout",
     "output_type": "stream",
     "text": [
      "Train shapes : X = (40000, 1000), y = (40000,)\n",
      "Test shapes : X = (10000, 1000), y = (10000,)\n"
     ]
    }
   ],
   "source": [
    "#train_test_split\n",
    "trainx,testx,trainy,testy = train_test_split(X,y,test_size=0.2,random_state=9)\n",
    "print(\"Train shapes : X = {}, y = {}\".format(trainx.shape,trainy.shape))\n",
    "print(\"Test shapes : X = {}, y = {}\".format(testx.shape,testy.shape))"
   ]
  },
  {
   "cell_type": "code",
   "execution_count": 35,
   "id": "98c02275",
   "metadata": {},
   "outputs": [
    {
     "name": "stdout",
     "output_type": "stream",
     "text": [
      "{'one': 612, 'review': 722, 'mention': 555, 'watch': 955, 'episod': 282, 'right': 727, 'exact': 296, 'happen': 403, 'first': 345, 'thing': 882, 'scene': 745, 'violenc': 945, 'set': 769, 'word': 982, 'go': 386, 'show': 779, 'heart': 411, 'pull': 682, 'drug': 256, 'sex': 771, 'classic': 151, 'use': 932, 'call': 116, 'given': 385, 'state': 827, 'focus': 352, 'main': 529, 'citi': 148, 'prison': 672, 'front': 366, 'face': 310, 'high': 415, 'home': 423, 'mani': 536, 'italian': 462, 'death': 214, 'deal': 213, 'never': 588, 'far': 322, 'away': 72, 'would': 988, 'say': 742, 'appeal': 52, 'due': 257, 'fact': 311, 'goe': 388, 'forget': 356, 'pretti': 670, 'pictur': 643, 'audienc': 67, 'charm': 138, 'romanc': 733, 'mess': 556, 'around': 56, 'ever': 291, 'saw': 741, 'develop': 230, 'tast': 869, 'got': 392, 'level': 504, 'kill': 477, 'order': 615, 'get': 380, 'well': 962, 'manner': 537, 'middl': 559, 'class': 150, 'turn': 916, 'lack': 485, 'street': 840, 'skill': 793, 'experi': 304, 'may': 546, 'becom': 85, 'view': 942, 'touch': 902, 'side': 782, 'wonder': 980, 'littl': 514, 'product': 676, 'film': 338, 'old': 610, 'time': 891, 'fashion': 324, 'give': 384, 'sometim': 804, 'sens': 763, 'entir': 281, 'piec': 644, 'actor': 13, 'extrem': 308, 'michael': 558, 'voic': 948, 'truli': 914, 'see': 759, 'edit': 267, 'refer': 706, 'william': 972, 'worth': 987, 'written': 991, 'perform': 636, 'master': 541, 'great': 393, 'comedi': 163, 'life': 506, 'realli': 700, 'come': 162, 'fantasi': 320, 'rather': 693, 'dream': 252, 'remain': 710, 'play': 648, 'particular': 628, 'concern': 172, 'flat': 348, 'everi': 292, 'terribl': 878, 'done': 245, 'thought': 886, 'way': 957, 'spend': 817, 'hot': 428, 'sit': 791, 'air': 25, 'theater': 880, 'light': 507, 'plot': 652, 'dialogu': 232, 'charact': 137, 'even': 288, 'killer': 478, 'disappoint': 238, 'realiz': 699, 'match': 543, 'point': 654, 'still': 833, 'control': 179, 'style': 848, 'us': 931, 'love': 523, 'laugh': 494, 'year': 994, 'impress': 443, 'manag': 535, 'tone': 897, 'imag': 438, 'jump': 472, 'averag': 68, 'spirit': 819, 'young': 998, 'woman': 978, 'career': 123, 'wear': 959, 'interest': 456, 'friend': 365, 'basic': 80, 'famili': 316, 'boy': 103, 'think': 883, 'zombi': 999, 'parent': 624, 'fight': 335, 'movi': 575, 'sudden': 852, 'decid': 216, 'ok': 608, 'make': 531, 'must': 580, 'thriller': 888, 'drama': 250, 'like': 508, 'real': 696, 'total': 901, 'ruin': 736, 'expect': 303, 'similar': 784, 'instead': 452, 'spot': 821, '10': 0, 'dialog': 231, 'shot': 778, 'ignor': 437, 'money': 569, 'visual': 947, 'stun': 846, 'mr': 576, 'offer': 604, 'human': 433, 'relat': 707, 'seem': 760, 'tell': 874, 'power': 666, 'success': 850, 'peopl': 634, 'differ': 234, 'situat': 792, 'theme': 881, 'director': 237, 'action': 12, 'present': 669, 'new': 589, 'york': 997, 'meet': 550, 'connect': 174, 'anoth': 44, 'next': 590, 'person': 639, 'know': 482, 'previous': 671, 'look': 519, 'taken': 865, 'live': 515, 'world': 984, 'soul': 811, 'stage': 822, 'big': 92, 'best': 89, 'place': 645, 'find': 341, 'case': 126, 'act': 11, 'good': 390, 'direct': 236, 'rest': 718, 'talent': 867, 'cast': 127, 'wish': 974, 'work': 983, 'probabl': 673, 'favorit': 327, 'stori': 836, 'caus': 131, 'bore': 100, 'despit': 227, 'seen': 761, 'last': 491, 'paul': 632, 'bring': 107, 'eye': 309, 'role': 731, 'delight': 219, 'kid': 476, 'dress': 253, 'children': 144, 'fun': 368, 'mother': 573, 'slow': 796, 'believ': 88, 'sure': 859, 'date': 207, 'seri': 766, 'today': 893, 'back': 74, 'excit': 300, 'black': 95, 'white': 967, 'tv': 917, 'hero': 414, 'week': 960, 'need': 587, 'chang': 135, 'pace': 622, 'water': 956, 'adventur': 21, 'oh': 607, 'thank': 879, 'nice': 591, 'read': 695, 'plus': 653, 'line': 510, 'let': 503, 'leav': 499, 'doubt': 247, 'quit': 689, 'amaz': 35, 'idea': 436, 'brilliant': 106, 'drop': 255, 'funni': 369, 'continu': 178, 'complet': 169, 'wast': 954, 'write': 989, 'pain': 623, 'bad': 76, 'almost': 28, 'entertain': 280, 'hard': 405, 'hand': 402, 'origin': 616, 'also': 32, 'band': 77, 'follow': 353, 'fit': 346, 'felt': 331, 'star': 825, 'respect': 716, 'made': 527, 'huge': 432, 'aw': 70, 'posit': 662, 'comment': 165, 'forward': 359, 'mistak': 565, 'worst': 986, 'storylin': 837, 'soundtrack': 813, 'song': 807, 'lame': 487, 'countri': 186, 'less': 502, 'four': 361, 'cheap': 140, 'rare': 691, 'happi': 404, 'end': 275, 'credit': 194, 'score': 749, 'least': 498, 'bit': 94, 'effort': 269, 'hell': 412, 'camp': 119, 'alien': 26, 'base': 79, 'odd': 603, 'everyth': 294, 'actual': 15, 'joke': 470, 'low': 525, 'budget': 111, 'problem': 674, 'eventu': 290, 'lost': 521, 'imagin': 439, 'someth': 803, 'better': 90, 'tri': 910, 'brother': 109, 'came': 117, 'eat': 266, 'men': 554, 'horror': 427, 'cheesi': 142, 'monster': 570, 'type': 920, 'usual': 933, 'includ': 444, 'beauti': 83, 'might': 560, 'daughter': 208, 'die': 233, 'care': 122, 'much': 577, 'romant': 734, 'predict': 667, 'humor': 434, 'later': 493, 'earli': 261, 'took': 898, 'notic': 598, 'sinc': 787, 'scari': 744, 'possibl': 663, 'fan': 319, 'enjoy': 278, 'mayb': 547, 'appar': 51, 'cri': 197, 'long': 518, 'ago': 23, 'game': 371, 'secret': 758, 'locat': 517, 'island': 460, 'warn': 953, 'togeth': 894, 'along': 30, 'feel': 330, 'three': 887, 'player': 649, 'name': 582, 'self': 762, 'tale': 866, 'jack': 463, 'yes': 995, 'german': 379, 'howev': 431, 'stay': 828, 'true': 913, 'whole': 968, 'kick': 475, 'beyond': 91, 'evil': 295, 'mad': 526, 'dr': 248, 'soldier': 800, 'top': 899, 'remind': 713, 'spoiler': 820, 'reason': 701, 'rich': 723, 'wood': 981, 'gone': 389, 'start': 826, 'deliv': 220, 'mean': 548, 'suck': 851, 'take': 864, 'annoy': 43, 'shoot': 776, 'minut': 563, 'screen': 752, 'appreci': 54, 'certain': 133, 'era': 284, 'perfect': 635, 'ten': 875, 'english': 277, 'keep': 473, 'cut': 202, 'fantast': 321, 'famous': 318, 'georg': 378, 'roll': 732, 'man': 534, 'constant': 176, 'kind': 479, 'unbeliev': 923, 'sort': 810, 'school': 746, 'project': 677, 'suppos': 858, 'town': 904, 'involv': 459, 'learn': 497, 'ridicul': 726, 'lot': 522, 'intrigu': 457, 'relationship': 708, 'danc': 204, 'stereotyp': 831, 'pass': 629, 'million': 561, 'could': 185, 'spent': 818, 'simpli': 786, 'fail': 312, 'captur': 120, 'titl': 892, 'excel': 298, 'alway': 34, 'hold': 420, 'except': 299, 'major': 530, 'version': 939, 'attempt': 64, 'earlier': 262, 'special': 816, 'effect': 268, 'older': 611, 'horribl': 426, 'chanc': 134, 'busi': 114, 'run': 737, 'emot': 274, 'want': 951, 'destroy': 228, 'war': 952, 'exampl': 297, 'ghost': 381, 'final': 340, 'begin': 86, 'attack': 63, 'return': 720, 'king': 480, 'victim': 940, 'wait': 949, 'someon': 802, 'adult': 20, 'either': 270, 'save': 740, 'rememb': 712, 'cinema': 146, 'dark': 206, 'sister': 790, 'appear': 53, 'anyon': 47, 'dvd': 260, 'etc': 287, 'pleas': 650, 'shame': 773, '20': 1, 'hear': 409, 'other': 618, 'femal': 332, 'fine': 342, 'artist': 59, 'dull': 258, 'script': 754, 'enough': 279, 'coupl': 187, 'hour': 429, 'sequel': 764, 'surpris': 860, 'wrong': 992, 'guy': 399, 'concept': 171, 'stop': 834, 'especi': 286, 'express': 306, 'full': 367, 'plenti': 651, 'john': 469, 'box': 102, 'frank': 362, 'girl': 382, 'former': 358, 'help': 413, 'aspect': 61, 'sequenc': 765, 'fake': 314, 'amus': 40, 'toward': 903, 'women': 979, 'utter': 934, 'weird': 961, 'costum': 184, 'absolut': 6, 'carri': 124, 'although': 33, 'anyth': 48, 'music': 579, 'grow': 396, 'heard': 410, 'straight': 838, 'anim': 41, 'matter': 545, 'sever': 770, 'hilari': 416, 'move': 574, 'wors': 985, 'bunch': 113, 'kept': 474, 'surviv': 861, 'pick': 642, 'season': 756, 'honest': 424, 'bare': 78, 'plan': 647, 'night': 592, 'stupid': 847, 'unless': 928, 'amount': 39, 'known': 483, 'actress': 14, 'part': 626, 'allow': 27, 'judg': 471, 'depth': 222, 'cop': 182, 'video': 941, 'standard': 824, 'complex': 170, 'though': 885, 'detail': 229, 'portray': 661, 'dumb': 259, 'job': 467, 'unfortun': 925, 'rate': 692, 'masterpiec': 542, 'trip': 911, 'mind': 562, 'achiev': 9, 'fall': 315, 'creat': 192, 'poor': 658, 'critic': 199, 'miss': 564, 'futur': 370, 'hope': 425, 'open': 613, 'door': 246, 'talk': 868, 'insid': 450, 'agre': 24, 'genr': 377, 'depict': 221, 'twist': 918, 'physic': 641, 'noth': 597, 'fascin': 323, 'mysteri': 581, 'subject': 849, 'explain': 305, 'brain': 104, 'lie': 505, 'guess': 397, 'realiti': 698, 'design': 225, 'oscar': 617, 'cinematographi': 147, 'repeat': 715, 'els': 272, 'walk': 950, 'pop': 659, 'crazi': 191, 'member': 551, 'polit': 657, 'hollywood': 422, 'valu': 935, 'list': 511, 'behind': 87, 'exist': 302, 'serious': 767, 'abl': 5, 'stand': 823, 'america': 36, 'hate': 407, 'typic': 921, 'speak': 815, 'respons': 717, 'larg': 490, 'cold': 157, 'law': 495, 'liter': 513, 'quick': 688, 'battl': 81, 'put': 685, 'period': 638, 'equal': 283, 'left': 501, 'inde': 446, 'somewhat': 805, 'soon': 808, 'potenti': 665, 'confus': 173, 'cultur': 201, 'prove': 679, 'cours': 188, 'perhap': 637, 'import': 442, 'brought': 110, 'upon': 930, 'within': 976, 'two': 919, 'disturb': 241, 'father': 326, 'troubl': 912, 'most': 572, 'anti': 46, 'messag': 557, 'accent': 7, 'land': 488, 'past': 630, 'centuri': 132, 'atmospher': 62, 'form': 357, 'natur': 585, 'inspir': 451, 'uniqu': 926, 'apart': 50, 'desper': 226, 'suspens': 862, 'unlik': 929, 'compani': 167, 'robert': 729, 'beat': 82, 'polic': 656, 'second': 757, 'third': 884, 'close': 155, 'male': 533, 'sad': 738, 'small': 797, 'memor': 552, 'engag': 276, 'limit': 509, 'novel': 599, 'richard': 724, 'gay': 374, 'murder': 578, 'studio': 844, 'general': 375, 'girlfriend': 383, 'question': 687, 'whether': 966, 'generat': 376, 'indian': 447, 'hit': 419, 'lead': 496, 'approach': 55, 'various': 938, 'offic': 605, 'describ': 223, 'blood': 96, 'suffer': 853, 'immedi': 441, 'crime': 198, 'result': 719, 'room': 735, 'break': 105, 'hous': 430, 'short': 777, 'hair': 400, 'moment': 568, 'among': 38, 'babi': 73, 'qualiti': 686, 'alon': 29, 'dead': 212, 'ultim': 922, 'ad': 16, 'promis': 678, 'non': 593, 'age': 22, 'introduc': 458, 'yet': 996, 'normal': 595, 'without': 977, 'fear': 328, 'caught': 130, 'truth': 915, 'told': 895, 'accept': 8, 'half': 401, 'reveal': 721, 'day': 210, 'treat': 909, 'releas': 709, 'element': 271, 'deep': 217, 'memori': 553, 'provid': 680, 'singl': 789, 'produc': 675, 'la': 484, 'build': 112, 'tension': 876, 'fast': 325, 'gave': 373, 'anyway': 49, 'avoid': 69, 'sound': 812, 'drag': 249, 'cute': 203, 'sweet': 863, 'languag': 489, 'nuditi': 600, 'listen': 512, 'televis': 873, 'rent': 714, 'teenag': 872, 'pure': 683, 'number': 601, 'teen': 871, 'strang': 839, 'serv': 768, 'purpos': 684, 'suggest': 854, 'throughout': 889, 'add': 18, '80': 3, 'obvious': 602, 'struggl': 842, 'figur': 336, 'okay': 609, 'david': 209, 'ride': 725, 'greatest': 394, 'writer': 990, 'husband': 435, 'steal': 829, 'whatev': 965, 'clear': 152, 'camera': 118, 'child': 143, 'creepi': 195, 'cliché': 154, 'went': 963, 'mix': 566, 'jame': 464, 'recommend': 703, 'book': 99, 'issu': 461, 'race': 690, 'background': 75, 'doctor': 242, 'cover': 189, 'lover': 524, 'consid': 175, 'local': 516, 'gun': 398, 'drive': 254, 'god': 387, 'filmmak': 339, 'event': 289, 'gang': 372, 'contain': 177, 'american': 37, 'car': 121, 'note': 596, 'compar': 168, 'sing': 788, 'common': 166, 'opinion': 614, 'whose': 969, 'support': 857, 'mari': 538, 'histor': 417, 'earth': 263, 'stuff': 845, 'public': 681, 'near': 586, 'late': 492, 'screenplay': 753, 'imdb': 440, 'narrat': 583, 'tom': 896, 'head': 408, 'wife': 970, 'flaw': 349, 'marri': 540, 'lose': 520, 'shock': 775, 'son': 806, 'train': 906, 'social': 798, 'weak': 958, 'western': 964, 'simpl': 785, 'art': 58, 'premis': 668, 'none': 594, 'flick': 351, 'familiar': 317, 'innoc': 449, 'fire': 344, 'forc': 355, 'french': 364, 'alreadi': 31, 'discov': 239, 'violent': 946, 'knew': 481, 'abil': 4, 'found': 360, 'execut': 301, 'admit': 19, 'track': 905, 'bodi': 98, 'sleep': 794, 'ask': 60, 'space': 814, 'nation': 584, 'post': 664, 'deserv': 224, 'shown': 780, 'difficult': 235, 'documentari': 243, 'mark': 539, 'viewer': 943, 'fair': 313, 'extra': 307, 'group': 395, 'fli': 350, 'pointless': 655, 'gore': 391, 'decent': 215, 'outsid': 620, 'british': 108, 'often': 606, 'wit': 975, 'co': 156, 'popular': 660, 'ladi': 486, 'joe': 468, 'incred': 445, 'attract': 66, 'clever': 153, 'villain': 944, 'store': 835, 'sick': 781, 'convinc': 180, 'term': 877, 'five': 347, 'award': 71, 'peter': 640, 'adapt': 17, 'intent': 455, 'moral': 571, 'easili': 265, 'remak': 711, 'silli': 783, 'tortur': 900, 'color': 160, 'strong': 841, 'check': 141, 'share': 774, 'materi': 544, 'bother': 101, 'definit': 218, 'free': 363, 'magic': 528, 'creatur': 193, 'easi': 264, 'otherwis': 619, 'crap': 190, 'slight': 795, 'everyon': 293, 'sorri': 809, 'harri': 406, 'throw': 890, 'student': 843, 'hole': 421, 'bill': 93, 'suit': 855, 'understand': 924, 'overal': 621, 'featur': 329, 'across': 10, 'pathet': 631, 'reach': 694, '30': 2, 'win': 973, 'colleg': 159, 'rip': 728, 'de': 211, 'lee': 500, 'modern': 567, 'japanes': 466, 'dog': 244, 'team': 870, 'cool': 181, 'stick': 832, 'comic': 164, 'record': 704, 'univers': 927, 'intens': 454, 'fill': 337, 'danger': 205, 'fiction': 334, 'finish': 343, 'realist': 697, 'dramat': 251, 'rock': 730, 'said': 739, 'scare': 743, 'arriv': 57, 'becam': 84, 'cross': 200, 'pay': 633, 'red': 705, 'plain': 646, 'travel': 908, 'superb': 856, 'cartoon': 125, 'van': 937, 'buy': 115, 'disney': 240, 'wild': 971, 'trash': 907, 'meant': 549, 'claim': 149, 'answer': 45, 'crew': 196, 'histori': 418, 'jane': 465, 'copi': 183, 'wrote': 993, 'chase': 139, 'choic': 145, 'footag': 354, 'collect': 158, 'blue': 97, 'cat': 128, 'sci': 747, 'fi': 333, 'sexual': 772, 'escap': 285, 'somehow': 801, 'embarrass': 273, 'scream': 751, 'attent': 65, 'step': 830, 'societi': 799, 'recent': 702, 'catch': 129, 'combin': 161, 'parti': 627, 'park': 625, 'intellig': 453, 'scienc': 748, 'search': 755, 'inform': 448, 'ann': 42, 'vampir': 936, 'maker': 532, 'channel': 136, 'scott': 750}\n"
     ]
    }
   ],
   "source": [
    "print(cv.vocabulary_)\n",
    "#https://towardsdatascience.com/basics-of-countvectorizer-e26677900f9c#:~:text=The%20CountVectorizer%20will%20select%20the,common%20words%20in%20the%20data.&text=By%20setting%20'binary%20%3D%20True',frequency%20of%20the%20term%2Fword."
   ]
  },
  {
   "cell_type": "code",
   "execution_count": 36,
   "id": "aad0bd68",
   "metadata": {},
   "outputs": [],
   "source": [
    "from sklearn.naive_bayes import GaussianNB,MultinomialNB,BernoulliNB"
   ]
  },
  {
   "cell_type": "code",
   "execution_count": 37,
   "id": "b2d176b3",
   "metadata": {},
   "outputs": [],
   "source": [
    "gnb, mnb, bnb = GaussianNB(),MultinomialNB(alpha=1.0,fit_prior=True),BernoulliNB(alpha=1.0,fit_prior=True)"
   ]
  },
  {
   "cell_type": "code",
   "execution_count": 38,
   "id": "036213b6",
   "metadata": {},
   "outputs": [],
   "source": [
    "gnb.fit(trainx,trainy)\n",
    "mnb.fit(trainx,trainy)\n",
    "bnb.fit(trainx,trainy)\n",
    "ypg = gnb.predict(testx)\n",
    "ypm = mnb.predict(testx)\n",
    "ypb = bnb.predict(testx)"
   ]
  },
  {
   "cell_type": "code",
   "execution_count": 41,
   "id": "48211a88",
   "metadata": {},
   "outputs": [
    {
     "name": "stdout",
     "output_type": "stream",
     "text": [
      "Gaussian =  0.7843\n",
      "Multinomial =  0.831\n",
      "Bernoulli =  0.8386\n"
     ]
    }
   ],
   "source": [
    "print(\"Gaussian = \",accuracy_score(testy,ypg))\n",
    "print(\"Multinomial = \",accuracy_score(testy,ypm))\n",
    "print(\"Bernoulli = \",accuracy_score(testy,ypb))"
   ]
  },
  {
   "cell_type": "code",
   "execution_count": 42,
   "id": "b2f0a310",
   "metadata": {},
   "outputs": [],
   "source": [
    "pickle.dump(bnb,open('MRmodel.pkl','wb'))"
   ]
  },
  {
   "cell_type": "code",
   "execution_count": 76,
   "id": "4a81d7ab",
   "metadata": {},
   "outputs": [],
   "source": [
    "rev2 = '''One of the other reviewers has mentioned that after watching just 1 Oz episode you'll be hooked. They are right, as this is exactly what happened with me.<br /><br />The first thing that struck me about Oz was its brutality and unflinching scenes of violence, which set in right from the word GO. Trust me, this is not a show for the faint hearted or timid. This show pulls no punches with regards to drugs, sex or violence. Its is hardcore, in the classic use of the word.<br /><br />It is called OZ as that is the nickname given to the Oswald Maximum Security State Penitentary. It focuses mainly on Emerald City, an experimental section of the prison where all the cells have glass fronts and face inwards, so privacy is not high on the agenda. Em City is home to many..Aryans, Muslims, gangstas, Latinos, Christians, Italians, Irish and more....so scuffles, death stares, dodgy dealings and shady agreements are never far away.<br /><br />I would say the main appeal of the show is due to the fact that it goes where other shows wouldn't dare. Forget pretty pictures painted for mainstream audiences, forget charm, forget romance...OZ doesn't mess around. The first episode I ever saw struck me as so nasty it was surreal, I couldn't say I was ready for it, but as I watched more, I developed a taste for Oz, and got accustomed to the high levels of graphic violence. Not just violence, but injustice (crooked guards who'll be sold out for a nickel, inmates who'll kill on order and get away with it, well mannered, middle class inmates being turned into prison bitches due to their lack of street skills or prison experience) Watching Oz, you may become comfortable with what is uncomfortable viewing....thats if you can get in touch with your darker side.'''"
   ]
  },
  {
   "cell_type": "code",
   "execution_count": 43,
   "id": "21d42037",
   "metadata": {},
   "outputs": [],
   "source": [
    "rev =  \"\"\"Terrible. Complete trash. Brainless tripe. Insulting to anyone who isn't an 8 year old fan boy. Im actually pretty disgusted that this movie is making the money it is - what does it say about the people who brainlessly hand over the hard earned cash to be 'entertained' in this fashion and then come here to leave a positive 8.8 review?? Oh yes, they are morons. Its the only sensible conclusion to draw. How anyone can rate this movie amongst the pantheon of great titles is beyond me.\n",
    "\n",
    "So trying to find something constructive to say about this title is hard...I enjoyed Iron Man? Tony Stark is an inspirational character in his own movies but here he is a pale shadow of that...About the only 'hook' this movie had into me was wondering when and if Iron Man would knock Captain America out...Oh how I wished he had :( What were these other characters anyways? Useless, bickering idiots who really couldn't organise happy times in a brewery. The film was a chaotic mish mash of action elements and failed 'set pieces'...\n",
    "\n",
    "I found the villain to be quite amusing.\n",
    "\n",
    "And now I give up. This movie is not robbing any more of my time but I felt I ought to contribute to restoring the obvious fake rating and reviews this movie has been getting on IMDb.\"\"\""
   ]
  },
  {
   "cell_type": "code",
   "execution_count": 77,
   "id": "4407c0a3",
   "metadata": {},
   "outputs": [],
   "source": [
    "stage1 = clean_html_tags(rev2)\n",
    "stage2 = is_special(stage1)\n",
    "stage3 = stop_words_clean_up(stage2)\n",
    "stage4 = stem_convert(stage3)"
   ]
  },
  {
   "cell_type": "code",
   "execution_count": 52,
   "id": "e18dc6b5",
   "metadata": {},
   "outputs": [],
   "source": [
    "word_vocabulary = cv.vocabulary_"
   ]
  },
  {
   "cell_type": "code",
   "execution_count": 47,
   "id": "3028cc66",
   "metadata": {},
   "outputs": [],
   "source": [
    "pickle.dump(word_vocabulary,open('word_vocabulary.pkl','wb'))"
   ]
  },
  {
   "cell_type": "code",
   "execution_count": 63,
   "id": "8471d764",
   "metadata": {},
   "outputs": [
    {
     "data": {
      "text/plain": [
       "'terribl complet trash brainless tripe insult anyon 8 year old fan boy im actual pretti disgust movi make money say peopl brainless hand hard earn cash entertain fashion come leav posit 8 8 review oh yes moron sensibl conclus draw anyon rate movi amongst pantheon great titl beyond tri find someth construct say titl hard enjoy iron man toni stark inspir charact movi pale shadow hook movi wonder iron man would knock captain america oh wish charact anyway useless bicker idiot realli organis happi time breweri film chaotic mish mash action element fail set piec found villain quit amus give movi rob time felt ought contribut restor obvious fake rate review movi get imdb'"
      ]
     },
     "execution_count": 63,
     "metadata": {},
     "output_type": "execute_result"
    }
   ],
   "source": [
    "stage4.count()"
   ]
  },
  {
   "cell_type": "code",
   "execution_count": 78,
   "id": "a2d11d9e",
   "metadata": {},
   "outputs": [],
   "source": [
    "inp = []\n",
    "for i in word_vocabulary:\n",
    "    inp.append(stage4.count(i[0]))\n",
    "y_pred = bnb.predict(np.array(inp).reshape(1,1000))"
   ]
  },
  {
   "cell_type": "code",
   "execution_count": 79,
   "id": "dddb3173",
   "metadata": {},
   "outputs": [
    {
     "name": "stdout",
     "output_type": "stream",
     "text": [
      "Positive command\n"
     ]
    }
   ],
   "source": [
    "if y_pred:\n",
    "    print(\"Positive command\")\n",
    "else:\n",
    "    print(\"Neagtive command\")"
   ]
  },
  {
   "cell_type": "code",
   "execution_count": null,
   "id": "8c504246",
   "metadata": {},
   "outputs": [],
   "source": []
  },
  {
   "cell_type": "code",
   "execution_count": null,
   "id": "f23f113a",
   "metadata": {},
   "outputs": [],
   "source": []
  },
  {
   "cell_type": "code",
   "execution_count": null,
   "id": "36ff640c",
   "metadata": {},
   "outputs": [],
   "source": []
  },
  {
   "cell_type": "code",
   "execution_count": null,
   "id": "b44de7f7",
   "metadata": {},
   "outputs": [],
   "source": []
  },
  {
   "cell_type": "code",
   "execution_count": null,
   "id": "f726ee24",
   "metadata": {},
   "outputs": [],
   "source": []
  }
 ],
 "metadata": {
  "kernelspec": {
   "display_name": "Python 3 (ipykernel)",
   "language": "python",
   "name": "python3"
  },
  "language_info": {
   "codemirror_mode": {
    "name": "ipython",
    "version": 3
   },
   "file_extension": ".py",
   "mimetype": "text/x-python",
   "name": "python",
   "nbconvert_exporter": "python",
   "pygments_lexer": "ipython3",
   "version": "3.9.12"
  }
 },
 "nbformat": 4,
 "nbformat_minor": 5
}
